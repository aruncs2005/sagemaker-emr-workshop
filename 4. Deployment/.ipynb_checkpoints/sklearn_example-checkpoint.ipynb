{
 "cells": [
  {
   "cell_type": "markdown",
   "metadata": {},
   "source": [
    "## Deploy to a real-time endpoint"
   ]
  },
  {
   "cell_type": "markdown",
   "metadata": {},
   "source": [
    "### Deploy with Python SDK"
   ]
  },
  {
   "cell_type": "markdown",
   "metadata": {},
   "source": [
    "An `Estimator` could be deployed directly after training, with an `Estimator.deploy()` but here we showcase the more extensive process of creating a model from s3 artifacts, that could be used to deploy a model that was trained in a different session or even out of SageMaker."
   ]
  },
  {
   "cell_type": "code",
   "execution_count": 2,
   "metadata": {},
   "outputs": [],
   "source": [
    "import boto3\n",
    "from sagemaker import get_execution_role\n",
    "import sagemaker\n",
    "\n",
    "sm_boto3 = boto3.client('sagemaker')\n",
    "\n",
    "sess = sagemaker.Session()\n",
    "\n",
    "FRAMEWORK_VERSION = '0.23-1'"
   ]
  },
  {
   "cell_type": "code",
   "execution_count": 11,
   "metadata": {},
   "outputs": [
    {
     "name": "stdout",
     "output_type": "stream",
     "text": [
      "Model artifact persisted at s3://sagemaker-us-east-1-762311884760/rf-scikit-2022-04-07-01-41-55-309/output/model.tar.gz\n"
     ]
    }
   ],
   "source": [
    "%store -r training_job_name\n",
    "\n",
    "artifact = sm_boto3.describe_training_job(\n",
    "    TrainingJobName=training_job_name)['ModelArtifacts']['S3ModelArtifacts']\n",
    "\n",
    "print('Model artifact persisted at ' + artifact)"
   ]
  },
  {
   "cell_type": "code",
   "execution_count": 12,
   "metadata": {},
   "outputs": [],
   "source": [
    "from sagemaker.sklearn.model import SKLearnModel\n",
    "\n",
    "model = SKLearnModel(\n",
    "    model_data=artifact,\n",
    "    role=get_execution_role(),\n",
    "    entry_point='script.py',\n",
    "    source_dir='code',\n",
    "    framework_version=FRAMEWORK_VERSION)"
   ]
  },
  {
   "cell_type": "code",
   "execution_count": 13,
   "metadata": {},
   "outputs": [
    {
     "name": "stdout",
     "output_type": "stream",
     "text": [
      "------------!"
     ]
    }
   ],
   "source": [
    "predictor = model.deploy(\n",
    "    instance_type='ml.t2.medium',\n",
    "    initial_instance_count=1)"
   ]
  },
  {
   "cell_type": "markdown",
   "metadata": {},
   "source": [
    "### Invoke with the Python SDK"
   ]
  },
  {
   "cell_type": "code",
   "execution_count": 14,
   "metadata": {},
   "outputs": [
    {
     "name": "stdout",
     "output_type": "stream",
     "text": [
      "Using bucket sagemaker-us-east-1-762311884760\n"
     ]
    }
   ],
   "source": [
    "import datetime\n",
    "import time\n",
    "import tarfile\n",
    "\n",
    "import boto3\n",
    "import pandas as pd\n",
    "import numpy as np\n",
    "from sagemaker import get_execution_role\n",
    "import sagemaker\n",
    "from sklearn.model_selection import train_test_split\n",
    "from sklearn.datasets import load_boston\n",
    "\n",
    "\n",
    "sm_boto3 = boto3.client('sagemaker')\n",
    "\n",
    "sess = sagemaker.Session()\n",
    "\n",
    "region = sess.boto_session.region_name\n",
    "\n",
    "bucket = sess.default_bucket()  # this could also be a hard-coded bucket name\n",
    "\n",
    "print('Using bucket ' + bucket)\n",
    "\n",
    "# we use the Boston housing dataset \n",
    "data = load_boston()\n",
    "\n",
    "X_train, X_test, y_train, y_test = train_test_split(\n",
    "    data.data, data.target, test_size=0.25, random_state=42)\n",
    "\n",
    "trainX = pd.DataFrame(X_train, columns=data.feature_names)\n",
    "trainX['target'] = y_train\n",
    "\n",
    "testX = pd.DataFrame(X_test, columns=data.feature_names)\n",
    "testX['target'] = y_test\n"
   ]
  },
  {
   "cell_type": "code",
   "execution_count": 15,
   "metadata": {},
   "outputs": [
    {
     "name": "stdout",
     "output_type": "stream",
     "text": [
      "[22.59886569 31.64914744 16.30302479 23.57692475 16.76085297 21.60177471\n",
      " 19.33705833 15.68122183 21.17588041 20.99868369 20.18834246 20.11675675\n",
      "  7.95028492 21.78531209 19.43116151 26.50948772 18.43284852  8.47034196\n",
      " 44.72747897 15.73136317 24.01902266 24.20587222 14.69978846 24.50656566\n",
      " 14.94864578 15.44340981 21.9950276  14.33101548 19.89039928 20.68629646\n",
      " 19.95076908 23.59390779 29.22741836 20.58577781 14.74035992 16.1735232\n",
      " 34.23055249 19.41934791 21.24554881 24.08269646 19.566493   29.58058387\n",
      " 44.86549563 19.87219903 22.93131086 13.59836749 15.48844968 24.19553413\n",
      " 18.51461494 28.56519683 21.06768128 33.66839275 17.03254554 26.14781825\n",
      " 45.76155072 22.00098662 15.08951021 32.45264167 22.4288053  20.75750166\n",
      " 25.19161465 34.14519639 30.29158737 18.73562009 27.06974084 16.96052518\n",
      " 13.80348492 23.20769689 28.87131703 15.08872213 20.6179421  27.4324097\n",
      "  9.81101901 22.8280623  22.03762085  7.55064672 19.99128294 45.93969206\n",
      " 11.46980393 13.99879279 21.87055069 11.41584141 20.37342341  9.69281959\n",
      " 20.5075969  26.53012756 15.58781632 23.4959697  23.79333018 17.45997883\n",
      " 21.75487175  8.28405559 19.27106389 19.43838911 25.03788492 19.49140873\n",
      " 28.9527127  11.31947395 12.414854   12.16938131 20.09497269 23.87890372\n",
      " 13.94530368 19.63832139 21.47672453 12.38365087 18.70531133 24.89875462\n",
      " 20.09504957 23.06968532  8.73557579 15.02921905 22.87315476 23.13934026\n",
      " 31.95538705 14.24070465 42.20462175 15.97966412 19.61575913 24.17108095\n",
      " 19.85795487 23.92401349  8.78179639 20.38416263 24.56829921 22.03474192\n",
      " 23.58172222]\n"
     ]
    }
   ],
   "source": [
    "# the SKLearnPredictor does the serialization from pandas for us\n",
    "print(predictor.predict(testX[data.feature_names]))"
   ]
  },
  {
   "cell_type": "markdown",
   "metadata": {},
   "source": [
    "### Alternative: invoke with `boto3`"
   ]
  },
  {
   "cell_type": "code",
   "execution_count": 16,
   "metadata": {},
   "outputs": [],
   "source": [
    "runtime = boto3.client('sagemaker-runtime')"
   ]
  },
  {
   "cell_type": "markdown",
   "metadata": {},
   "source": [
    "#### Option 1: `csv` serialization"
   ]
  },
  {
   "cell_type": "code",
   "execution_count": 17,
   "metadata": {},
   "outputs": [
    {
     "name": "stderr",
     "output_type": "stream",
     "text": [
      "The endpoint attribute has been renamed in sagemaker>=2.\n",
      "See: https://sagemaker.readthedocs.io/en/stable/v2.html for details.\n"
     ]
    },
    {
     "name": "stdout",
     "output_type": "stream",
     "text": [
      "b'[22.598865692640693, 31.649147438672436, 16.303024786324787, 23.576924747474745, 16.760852974802972, 21.601774711399717, 19.337058333333335, 15.681221828171834, 21.175880411255413, 20.9986836940837, 20.188342460317468, 20.11675674603175, 7.9502849206349175, 21.785312085137097, 19.431161507936512, 26.50948771506272, 18.43284852092352, 8.470341955266955, 44.727478968253955, 15.731363167388162, 24.019022655122647, 24.205872222222226, 14.699788455988458, 24.506565656565662, 14.948645776445765, 15.443409809634806, 21.995027597402597, 14.331015476190482, 19.890399278499277, 20.686296464646453, 19.95076908369408, 23.5939077922078, 29.227418362193365, 20.585777813852825, 14.74035992063492, 16.17352319624819, 34.23055248917748, 19.41934790764791, 21.245548809523804, 24.082696464646478, 19.566493001443007, 29.58058387445887, 44.86549563492062, 19.87219902597402, 22.93131085858587, 13.598367493617488, 15.488449675324677, 24.19553412698413, 18.514614935064934, 28.565196825396843, 21.06768127705628, 33.668392748917746, 17.03254554334554, 26.14781825396825, 45.76155072150075, 22.000986616161622, 15.0895102092352, 32.45264166666667, 22.42880530303031, 20.75750165945166, 25.19161464646465, 34.145196392496395, 30.29158737373737, 18.735620093795095, 27.069740836940827, 16.960525180375186, 13.803484920634917, 23.207696886446893, 28.871317027417035, 15.088722130647128, 20.617942099567095, 27.432409704184693, 9.81101901154401, 22.828062301587302, 22.037620851370853, 7.550646717171715, 19.991282936507936, 45.93969206349207, 11.469803932178936, 13.998792787767783, 21.870550685425677, 11.415841414141418, 20.37342341269841, 9.69281958874459, 20.507596897546897, 26.530127561327564, 15.587816322566326, 23.495969696969702, 23.793330183705187, 17.459978826728825, 21.754871753246757, 8.28405559163059, 19.271063888888886, 19.4383891053391, 25.037884920634934, 19.49140873015873, 28.952712698412697, 11.319473953823955, 12.414854004329008, 12.169381313131318, 20.094972691197686, 23.878903715728715, 13.945303679653678, 19.638321392496394, 21.47672453102453, 12.383650865800854, 18.705311327561326, 24.898754617604617, 20.09504956709957, 23.069685317460326, 8.735575793650796, 15.029219047619053, 22.87315476190476, 23.139340259740262, 31.955387049062054, 14.240704653679652, 42.20462175324675, 15.979664121989128, 19.615759126984127, 24.171080952380954, 19.85795487012986, 23.924013492063494, 8.781796392496393, 20.384162626262622, 24.568299206349206, 22.034741919191916, 23.581722222222226]'\n"
     ]
    }
   ],
   "source": [
    "# csv serialization\n",
    "response = runtime.invoke_endpoint(\n",
    "    EndpointName=predictor.endpoint,\n",
    "    Body=testX[data.feature_names].to_csv(header=False, index=False).encode('utf-8'),\n",
    "    ContentType='text/csv')\n",
    "\n",
    "print(response['Body'].read())"
   ]
  },
  {
   "cell_type": "markdown",
   "metadata": {},
   "source": [
    "#### Option 2: `npy` serialization"
   ]
  },
  {
   "cell_type": "code",
   "execution_count": 18,
   "metadata": {},
   "outputs": [
    {
     "name": "stderr",
     "output_type": "stream",
     "text": [
      "The endpoint attribute has been renamed in sagemaker>=2.\n",
      "See: https://sagemaker.readthedocs.io/en/stable/v2.html for details.\n"
     ]
    },
    {
     "name": "stdout",
     "output_type": "stream",
     "text": [
      "b'[22.598865692640693, 31.649147438672436, 16.303024786324787, 23.576924747474745, 16.760852974802972, 21.601774711399717, 19.337058333333335, 15.681221828171834, 21.175880411255413, 20.9986836940837, 20.188342460317468, 20.11675674603175, 7.9502849206349175, 21.785312085137097, 19.431161507936512, 26.50948771506272, 18.43284852092352, 8.470341955266955, 44.727478968253955, 15.731363167388162, 24.019022655122647, 24.205872222222226, 14.699788455988458, 24.506565656565662, 14.948645776445765, 15.443409809634806, 21.995027597402597, 14.331015476190482, 19.890399278499277, 20.686296464646453, 19.95076908369408, 23.5939077922078, 29.227418362193365, 20.585777813852825, 14.74035992063492, 16.17352319624819, 34.23055248917748, 19.41934790764791, 21.245548809523804, 24.082696464646478, 19.566493001443007, 29.58058387445887, 44.86549563492062, 19.87219902597402, 22.93131085858587, 13.598367493617488, 15.488449675324677, 24.19553412698413, 18.514614935064934, 28.565196825396843, 21.06768127705628, 33.668392748917746, 17.03254554334554, 26.14781825396825, 45.76155072150075, 22.000986616161622, 15.0895102092352, 32.45264166666667, 22.42880530303031, 20.75750165945166, 25.19161464646465, 34.145196392496395, 30.29158737373737, 18.735620093795095, 27.069740836940827, 16.960525180375186, 13.803484920634917, 23.207696886446893, 28.871317027417035, 15.088722130647128, 20.617942099567095, 27.432409704184693, 9.81101901154401, 22.828062301587302, 22.037620851370853, 7.550646717171715, 19.991282936507936, 45.93969206349207, 11.469803932178936, 13.998792787767783, 21.870550685425677, 11.415841414141418, 20.37342341269841, 9.69281958874459, 20.507596897546897, 26.530127561327564, 15.587816322566326, 23.495969696969702, 23.793330183705187, 17.459978826728825, 21.754871753246757, 8.28405559163059, 19.271063888888886, 19.4383891053391, 25.037884920634934, 19.49140873015873, 28.952712698412697, 11.319473953823955, 12.414854004329008, 12.169381313131318, 20.094972691197686, 23.878903715728715, 13.945303679653678, 19.638321392496394, 21.47672453102453, 12.383650865800854, 18.705311327561326, 24.898754617604617, 20.09504956709957, 23.069685317460326, 8.735575793650796, 15.029219047619053, 22.87315476190476, 23.139340259740262, 31.955387049062054, 14.240704653679652, 42.20462175324675, 15.979664121989128, 19.615759126984127, 24.171080952380954, 19.85795487012986, 23.924013492063494, 8.781796392496393, 20.384162626262622, 24.568299206349206, 22.034741919191916, 23.581722222222226]'\n"
     ]
    }
   ],
   "source": [
    "# npy serialization\n",
    "from io import BytesIO\n",
    "\n",
    "\n",
    "#Serialise numpy ndarray as bytes\n",
    "buffer = BytesIO()\n",
    "# Assuming testX is a data frame\n",
    "np.save(buffer, testX[data.feature_names].values)\n",
    "\n",
    "response = runtime.invoke_endpoint(\n",
    "    EndpointName=predictor.endpoint,\n",
    "    Body=buffer.getvalue(),\n",
    "    ContentType='application/x-npy')\n",
    "\n",
    "print(response['Body'].read())"
   ]
  },
  {
   "cell_type": "markdown",
   "metadata": {},
   "source": [
    "## Don't forget to delete the endpoint !"
   ]
  },
  {
   "cell_type": "code",
   "execution_count": 19,
   "metadata": {},
   "outputs": [
    {
     "name": "stderr",
     "output_type": "stream",
     "text": [
      "The endpoint attribute has been renamed in sagemaker>=2.\n",
      "See: https://sagemaker.readthedocs.io/en/stable/v2.html for details.\n"
     ]
    },
    {
     "data": {
      "text/plain": [
       "{'ResponseMetadata': {'RequestId': '39910399-195d-4ea3-940d-e822f4e8218d',\n",
       "  'HTTPStatusCode': 200,\n",
       "  'HTTPHeaders': {'x-amzn-requestid': '39910399-195d-4ea3-940d-e822f4e8218d',\n",
       "   'content-type': 'application/x-amz-json-1.1',\n",
       "   'content-length': '0',\n",
       "   'date': 'Thu, 07 Apr 2022 02:37:17 GMT'},\n",
       "  'RetryAttempts': 0}}"
      ]
     },
     "execution_count": 19,
     "metadata": {},
     "output_type": "execute_result"
    }
   ],
   "source": [
    "sm_boto3.delete_endpoint(EndpointName=predictor.endpoint)"
   ]
  },
  {
   "cell_type": "code",
   "execution_count": null,
   "metadata": {},
   "outputs": [],
   "source": []
  }
 ],
 "metadata": {
  "instance_type": "ml.t3.medium",
  "kernelspec": {
   "display_name": "Python 3 (Data Science)",
   "language": "python",
   "name": "python3__SAGEMAKER_INTERNAL__arn:aws:sagemaker:us-east-1:081325390199:image/datascience-1.0"
  },
  "language_info": {
   "codemirror_mode": {
    "name": "ipython",
    "version": 3
   },
   "file_extension": ".py",
   "mimetype": "text/x-python",
   "name": "python",
   "nbconvert_exporter": "python",
   "pygments_lexer": "ipython3",
   "version": "3.7.10"
  }
 },
 "nbformat": 4,
 "nbformat_minor": 4
}
